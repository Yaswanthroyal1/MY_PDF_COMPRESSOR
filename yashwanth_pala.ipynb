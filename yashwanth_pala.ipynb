{
 "cells": [
  {
   "cell_type": "code",
   "execution_count": 1,
   "metadata": {},
   "outputs": [
    {
     "name": "stdout",
     "output_type": "stream",
     "text": [
      "Collecting PDFNetPython3==8.1.0\n",
      "  Downloading PDFNetPython3-8.1.0-cp38-cp38-win_amd64.whl (28.9 MB)\n",
      "Installing collected packages: PDFNetPython3\n",
      "Successfully installed PDFNetPython3-8.1.0\n"
     ]
    }
   ],
   "source": [
    "!pip install PDFNetPython3==8.1.0"
   ]
  },
  {
   "cell_type": "code",
   "execution_count": 2,
   "metadata": {},
   "outputs": [],
   "source": [
    "import os\n",
    "import sys\n",
    "from PDFNetPython3.PDFNetPython import PDFDoc, Optimizer, SDFDoc, PDFNet"
   ]
  },
  {
   "cell_type": "code",
   "execution_count": 8,
   "metadata": {},
   "outputs": [],
   "source": [
    "#functions- pdf -compresser\n",
    "\n",
    "def sizeformat(b, factor=1024, suffix=\"B\"):\n",
    "    \"\"\"\n",
    "    Scale bytes to its proper byte format\n",
    "    e.g:\n",
    "        1253656 => '1.20MB'\n",
    "        1253656678 => '1.17GB'\n",
    "    \"\"\"\n",
    "    for unit in [\"\", \"K\", \"M\", \"G\", \"T\", \"P\", \"E\", \"Z\"]:\n",
    "        if b < factor:\n",
    "            return f\"{b:.2f}{unit}{suffix}\"\n",
    "        b /= factor\n",
    "    return f\"{b:.2f}Y{suffix}\"\n",
    "\n",
    "def compressfile(input_file: str, output_file: str):\n",
    "    \"\"\"Compress PDF file\"\"\"\n",
    "    if not output_file:\n",
    "        output_file = input_file\n",
    "    initial_size = os.path.getsize(input_file)\n",
    "    try:\n",
    "        # Initialize the library\n",
    "        PDFNet.Initialize()\n",
    "        doc = PDFDoc(input_file)\n",
    "        # Optimize PDF with the default settings\n",
    "        doc.InitSecurityHandler()\n",
    "        # Reduce PDF size by removing redundant information and compressing data streams\n",
    "        Optimizer.Optimize(doc)\n",
    "        doc.Save(output_file, SDFDoc.e_linearized)\n",
    "        doc.Close()\n",
    "    except Exception as e:\n",
    "        print(\"Error compress_file=\", e)\n",
    "        doc.Close()\n",
    "        return False\n",
    "    compressed_size = os.path.getsize(output_file)\n",
    "    ratio = 1 - (compressed_size / initial_size)\n",
    "    summary = {\n",
    "        \"Input File\": input_file, \"Initial Size\": sizeformat(initial_size),\n",
    "        \"Output File\": output_file, f\"Compressed Size\": sizeformat(compressed_size),\n",
    "        \"Compression Ratio\": \"{0:.3%}.\".format(ratio)\n",
    "    }\n",
    "    # Printing Summary\n",
    "    print(\"## Summary ########################################################\")\n",
    "    print(\"\\n\".join(\"{}:{}\".format(i, j) for i, j in summary.items()))\n",
    "    print(\"###################################################################\")\n",
    "    return True"
   ]
  },
  {
   "cell_type": "code",
   "execution_count": 12,
   "metadata": {},
   "outputs": [
    {
     "name": "stdout",
     "output_type": "stream",
     "text": [
      "enter the input file file path\n",
      "C:/Users/vishn/Desktop/kasi/dup.pdf\n",
      "enter the output file path\n",
      "C:/Users/vishn/Desktop/kasi/output.pdf\n",
      "## Summary ########################################################\n",
      "Input File:C:/Users/vishn/Desktop/kasi/dup.pdf\n",
      "Initial Size:6.81MB\n",
      "Output File:C:/Users/vishn/Desktop/kasi/output.pdf\n",
      "Compressed Size:2.08MB\n",
      "Compression Ratio:69.514%.\n",
      "###################################################################\n"
     ]
    },
    {
     "data": {
      "text/plain": [
       "True"
      ]
     },
     "execution_count": 12,
     "metadata": {},
     "output_type": "execute_result"
    }
   ],
   "source": [
    "print(\"enter the input file file path\")\n",
    "input_file=input()\n",
    "print(\"enter the output file path\")\n",
    "output_file=input()\n",
    "\n",
    "#input_file = \"C:/Users/vishn/Desktop/kasi/dup.pdf\"\n",
    "#output_file = \"C:/Users/vishn/Desktop/kasi/output.pdf\"\n",
    "compressfile(input_file, output_file)"
   ]
  },
  {
   "cell_type": "code",
   "execution_count": null,
   "metadata": {},
   "outputs": [],
   "source": []
  }
 ],
 "metadata": {
  "kernelspec": {
   "display_name": "Python 3",
   "language": "python",
   "name": "python3"
  },
  "language_info": {
   "codemirror_mode": {
    "name": "ipython",
    "version": 3
   },
   "file_extension": ".py",
   "mimetype": "text/x-python",
   "name": "python",
   "nbconvert_exporter": "python",
   "pygments_lexer": "ipython3",
   "version": "3.8.3"
  }
 },
 "nbformat": 4,
 "nbformat_minor": 4
}
